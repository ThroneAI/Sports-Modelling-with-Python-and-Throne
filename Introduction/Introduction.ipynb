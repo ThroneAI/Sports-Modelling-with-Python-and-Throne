{
 "cells": [
  {
   "cell_type": "markdown",
   "metadata": {},
   "source": [
    "# Sports Prediction with Python and Throne"
   ]
  },
  {
   "cell_type": "markdown",
   "metadata": {},
   "source": [
    "## Introduction"
   ]
  },
  {
   "cell_type": "markdown",
   "metadata": {},
   "source": [
    "<div style=\"float: right;\"><img style=\"float: right;margin-left: 25px; margin-top: 10px;\" width=\"200\" src=\"https://www.throne.ai/static/logos/logo-only-right-white.png\"></div>\n",
    "\n",
    "The last decade has seen a democratization of statistics and machine learning. Open-source tools such as <a href=\"https://pandas.pydata.org/\">pandas</a>, <a href=\"http://scikit-learn.org/\">scikit-learn</a>, as well as increasing data availability, have enabled more people than ever before to participate in data science. Correspondingly, sports analytics has grown tremendously as a field: terms like <a href=\"http://www.bbc.co.uk/sport/football/40699431\">expected goals</a> have crept into the vocabulary of everyday sports fans, while many former bloggers now find themselves employed in the analytics units of the world's biggest sports franchise. It is a golden age for the quantitative sports field, and things are just getting started.\n",
    "\n",
    "Having said this, there are still barriers to entry. The best data is still expensive to get hold of, incentives to maintain quantitative-based edges discourage collaboration and publishing, and there are no core textbooks on the subject. Many prospective sports modellers are therefore often left wondering where to start.\n",
    "\n",
    "This course will help you get started with **sports prediction**. You will acquire a core toolkit to predict sports using quantitative techniques from statistics and machine learning. Along the way you will learn how to create probabilistic models of sports, how to stake against an odds line, how to backtest a model, and many other core skills. Python examples are provided along the way, along with data and modules from the <a href=\"http://www.throne.ai\">Throne</a> platform which will allow you to model as you learn."
   ]
  },
  {
   "cell_type": "markdown",
   "metadata": {},
   "source": [
    "## Prerequisites"
   ]
  },
  {
   "cell_type": "markdown",
   "metadata": {},
   "source": [
    "**Core software**\n",
    "- Python 3.5+ \n",
    "- A Throne.ai account and API token\n",
    "\n",
    "**Python libraries**\n",
    "- numpy - version 1.13.3+\n",
    "- pandas - version 0.21.0+\n",
    "- peyton - version 0.2.0+\n",
    "- scipy - version 0.19.1+\n",
    "\n",
    "**Mathematics**\n",
    "- A decent grasp of calculus\n",
    "- A basic understanding of probability\n"
   ]
  },
  {
   "cell_type": "markdown",
   "metadata": {},
   "source": [
    "## Contents\n",
    "\n",
    "- **<a href=\"http://nbviewer.ipython.org/urls/raw.github.com/ThroneAI/Sports-Modelling-with-Python-and-Throne/master/Introduction/Introduction.ipynb\">Introduction</a>** - what you gain from learning this course\n",
    "\n",
    "- **<a href=\"http://nbviewer.ipython.org/urls/raw.github.com/ThroneAI/Sports-Modelling-with-Python-and-Throne/master/ChapterOne/ChapterOne.ipynb\">Chapter One: The Probability Zoo</a>** - covering various probability distributions and their uses in sports.\n",
    "- ..."
   ]
  }
 ],
 "metadata": {
  "kernelspec": {
   "display_name": "Python 3",
   "language": "python",
   "name": "python3"
  },
  "language_info": {
   "codemirror_mode": {
    "name": "ipython",
    "version": 3
   },
   "file_extension": ".py",
   "mimetype": "text/x-python",
   "name": "python",
   "nbconvert_exporter": "python",
   "pygments_lexer": "ipython3",
   "version": "3.5.2"
  }
 },
 "nbformat": 4,
 "nbformat_minor": 1
}
